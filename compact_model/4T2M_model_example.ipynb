{
 "cells": [
  {
   "cell_type": "code",
   "execution_count": 30,
   "metadata": {},
   "outputs": [
    {
     "name": "stdout",
     "output_type": "stream",
     "text": [
      "The autoreload extension is already loaded. To reload it, use:\n",
      "  %reload_ext autoreload\n"
     ]
    }
   ],
   "source": [
    "%load_ext autoreload\n",
    "\n",
    "%autoreload 2\n",
    "\n",
    "import numpy as np\n",
    "import matplotlib.pyplot as plt\n",
    "import matplotlib\n",
    "\n",
    "import tcam_4t2m_180nm as tcam\n",
    "\n",
    "matplotlib.rcParams['font.sans-serif'] = \"Arial\"\n",
    "matplotlib.rcParams['figure.dpi'] = 80\n",
    "matplotlib.rcParams['figure.figsize'] = [4, 4]\n",
    "cm = plt.cm.get_cmap('RdBu')\n",
    "params = {'legend.fontsize': 'x-large',\n",
    "          'figure.figsize': (4, 4),\n",
    "         'axes.labelsize': 'x-large',\n",
    "         'axes.titlesize':'x-large',\n",
    "         'xtick.labelsize':'x-large',\n",
    "         'ytick.labelsize':'x-large'}\n",
    "plt.rcParams.update(params)\n",
    "matplotlib.rcParams['font.sans-serif'] = \"Arial\"\n",
    "plt.rcParams.update({'figure.autolayout': False})"
   ]
  },
  {
   "cell_type": "markdown",
   "metadata": {},
   "source": [
    "Generate a random matrix of ones and zeros"
   ]
  },
  {
   "cell_type": "code",
   "execution_count": 17,
   "metadata": {},
   "outputs": [
    {
     "data": {
      "text/plain": [
       "<matplotlib.image.AxesImage at 0x1ec83a96a00>"
      ]
     },
     "execution_count": 17,
     "metadata": {},
     "output_type": "execute_result"
    },
    {
     "data": {
      "image/png": "[encoded data removed]",
      "text/plain": [
       "<Figure size 320x320 with 1 Axes>"
      ]
     },
     "metadata": {
      "needs_background": "light"
     },
     "output_type": "display_data"
    }
   ],
   "source": [
    "store_mat=np.random.rand(70,16)\n",
    "store_mat[store_mat>=0.5]=1\n",
    "store_mat[store_mat<0.5]=0\n",
    "plt.imshow(store_mat)"
   ]
  },
  {
   "cell_type": "markdown",
   "metadata": {},
   "source": [
    "loop over all rows, and check if all the search are correct"
   ]
  },
  {
   "cell_type": "code",
   "execution_count": 18,
   "metadata": {},
   "outputs": [],
   "source": [
    "right=0\n",
    "for i in range(store_mat.shape[0]):\n",
    "    # search for vector stored at row i\n",
    "    search_vect=store_mat[i,:]\n",
    "    # use array function to retrieve all outputs. Array returns [i_ml,v_ml after t_clk,binary match]\n",
    "    res_test=tcam.array(store_mat,search_vect,returnPerf=False)\n",
    "    # if there is only a single match and in the correct row, right answer. Otherwise flag error\n",
    "    if np.sum(np.asarray(res_test)[:,2])==1 and np.asarray(res_test)[i,2]==1:\n",
    "        right=right+1\n",
    "    else:\n",
    "        print('Error at row '+str(i))"
   ]
  },
  {
   "cell_type": "markdown",
   "metadata": {},
   "source": [
    "Sounds all the search were right! To retrieve also the energy metrics it is sufficient to Flag returnPerf"
   ]
  },
  {
   "cell_type": "code",
   "execution_count": 34,
   "metadata": {},
   "outputs": [
    {
     "name": "stdout",
     "output_type": "stream",
     "text": [
      "Dynamic power to charge/discharge ML per search 0.12 W\n",
      "Dynamic power to charge WL per search 0.02 W\n",
      "Static power in the voltage divider per search 0.12 W\n"
     ]
    }
   ],
   "source": [
    "right=0\n",
    "p_ml=0\n",
    "p_wl=0\n",
    "p_static=0\n",
    "for i in range(store_mat.shape[0]):\n",
    "    # search for vector stored at row i\n",
    "    search_vect=store_mat[i,:]\n",
    "    # use array function to retrieve all outputs. Array returns [i_ml,v_ml after t_clk,binary match][p_ml][p_wl][p_static]\n",
    "    res_test=tcam.array(store_mat,search_vect,returnPerf=True)\n",
    "    # power to charge/discharge match line\n",
    "    p_ml=p_ml+res_test[1]\n",
    "    # power to charge word line\n",
    "    p_wl=p_wl+res_test[2]\n",
    "    # static power consumption in the voltage divider\n",
    "    p_static=p_static+res_test[3]\n",
    "    # if there is only a single match and in the correct row, right answer. Otherwise flag error\n",
    "    if np.sum(np.asarray(res_test[0])[:,2])==1 and np.asarray(res_test[0])[i,2]==1:\n",
    "        right=right+1\n",
    "    else:\n",
    "        print('Error at row '+str(i))\n",
    "print('Dynamic power to charge/discharge ML per search '+str(p_ml/store_mat.shape[0])[0:4]+' W')\n",
    "print('Dynamic power to charge WL per search '+str(p_wl/store_mat.shape[0])[0:4]+' W')\n",
    "print('Static power in the voltage divider per search '+str(p_static/store_mat.shape[0])[0:4]+' W')"
   ]
  },
  {
   "cell_type": "markdown",
   "metadata": {},
   "source": [
    "Technology and circuit paramters such as clock period after which sense the ML, conductance for HRS and LRS, and other are specified inside the tcam_4t2m_180nm function but can be specified also from above. For example, let's change the conductance values for LRS and HRS to increase the error probability by reducing HRS"
   ]
  },
  {
   "cell_type": "code",
   "execution_count": 35,
   "metadata": {},
   "outputs": [
    {
     "name": "stdout",
     "output_type": "stream",
     "text": [
      "Error at row 0\n",
      "Error at row 1\n",
      "Error at row 2\n",
      "Error at row 3\n",
      "Error at row 4\n",
      "Error at row 5\n",
      "Error at row 6\n",
      "Error at row 7\n",
      "Error at row 8\n",
      "Error at row 9\n",
      "Error at row 10\n",
      "Error at row 11\n",
      "Error at row 12\n",
      "Error at row 13\n",
      "Error at row 14\n",
      "Error at row 15\n",
      "Error at row 16\n",
      "Error at row 17\n",
      "Error at row 18\n",
      "Error at row 19\n",
      "Error at row 20\n",
      "Error at row 21\n",
      "Error at row 22\n",
      "Error at row 23\n",
      "Error at row 24\n",
      "Error at row 25\n",
      "Error at row 26\n",
      "Error at row 27\n",
      "Error at row 28\n",
      "Error at row 29\n",
      "Error at row 30\n",
      "Error at row 31\n",
      "Error at row 32\n",
      "Error at row 33\n",
      "Error at row 34\n",
      "Error at row 35\n",
      "Error at row 36\n",
      "Error at row 37\n",
      "Error at row 38\n",
      "Error at row 39\n",
      "Error at row 40\n",
      "Error at row 41\n",
      "Error at row 42\n",
      "Error at row 43\n",
      "Error at row 44\n",
      "Error at row 45\n",
      "Error at row 46\n",
      "Error at row 47\n",
      "Error at row 48\n",
      "Error at row 49\n",
      "Error at row 50\n",
      "Error at row 51\n",
      "Error at row 52\n",
      "Error at row 53\n",
      "Error at row 54\n",
      "Error at row 55\n",
      "Error at row 56\n",
      "Error at row 57\n",
      "Error at row 58\n",
      "Error at row 59\n",
      "Error at row 60\n",
      "Error at row 61\n",
      "Error at row 62\n",
      "Error at row 63\n",
      "Error at row 64\n",
      "Error at row 65\n",
      "Error at row 66\n",
      "Error at row 67\n",
      "Error at row 68\n",
      "Error at row 69\n"
     ]
    }
   ],
   "source": [
    "right=0\n",
    "r_lrs = 5e3\n",
    "r_hrs = 10e3\n",
    "for i in range(store_mat.shape[0]):\n",
    "    # search for vector stored at row i\n",
    "    search_vect=store_mat[i,:]\n",
    "    # use array function to retrieve all outputs. Array returns [i_ml,v_ml after t_clk,binary match]\n",
    "    res_test=tcam.array(store_mat,search_vect,returnPerf=False,r_low=r_lrs,r_high=r_hrs)\n",
    "    # if there is only a single match and in the correct row, right answer. Otherwise flag error\n",
    "    if np.sum(np.asarray(res_test)[:,2])==1 and np.asarray(res_test)[i,2]==1:\n",
    "        right=right+1\n",
    "    else:\n",
    "        print('Error at row '+str(i))"
   ]
  },
  {
   "cell_type": "markdown",
   "metadata": {},
   "source": [
    "As expected, with a resistance window of 2 most of the time an error occurs"
   ]
  },
  {
   "cell_type": "markdown",
   "metadata": {},
   "source": [
    "Let's try to decrease the clock period to 1ps."
   ]
  },
  {
   "cell_type": "code",
   "execution_count": 36,
   "metadata": {},
   "outputs": [
    {
     "name": "stdout",
     "output_type": "stream",
     "text": [
      "Error at row 0\n",
      "Error at row 1\n",
      "Error at row 2\n",
      "Error at row 3\n",
      "Error at row 4\n",
      "Error at row 5\n",
      "Error at row 6\n",
      "Error at row 7\n",
      "Error at row 8\n",
      "Error at row 9\n",
      "Error at row 10\n",
      "Error at row 11\n",
      "Error at row 12\n",
      "Error at row 13\n",
      "Error at row 14\n",
      "Error at row 15\n",
      "Error at row 16\n",
      "Error at row 17\n",
      "Error at row 18\n",
      "Error at row 19\n",
      "Error at row 20\n",
      "Error at row 21\n",
      "Error at row 22\n",
      "Error at row 23\n",
      "Error at row 24\n",
      "Error at row 25\n",
      "Error at row 26\n",
      "Error at row 27\n",
      "Error at row 28\n",
      "Error at row 29\n",
      "Error at row 30\n",
      "Error at row 31\n",
      "Error at row 32\n",
      "Error at row 33\n",
      "Error at row 34\n",
      "Error at row 35\n",
      "Error at row 36\n",
      "Error at row 37\n",
      "Error at row 38\n",
      "Error at row 39\n",
      "Error at row 40\n",
      "Error at row 41\n",
      "Error at row 42\n",
      "Error at row 43\n",
      "Error at row 44\n",
      "Error at row 45\n",
      "Error at row 46\n",
      "Error at row 47\n",
      "Error at row 48\n",
      "Error at row 49\n",
      "Error at row 50\n",
      "Error at row 51\n",
      "Error at row 52\n",
      "Error at row 53\n",
      "Error at row 54\n",
      "Error at row 55\n",
      "Error at row 56\n",
      "Error at row 57\n",
      "Error at row 58\n",
      "Error at row 59\n",
      "Error at row 60\n",
      "Error at row 61\n",
      "Error at row 62\n",
      "Error at row 63\n",
      "Error at row 64\n",
      "Error at row 65\n",
      "Error at row 66\n",
      "Error at row 67\n",
      "Error at row 68\n",
      "Error at row 69\n"
     ]
    }
   ],
   "source": [
    "right=0\n",
    "t_period=1e-12\n",
    "for i in range(store_mat.shape[0]):\n",
    "    # search for vector stored at row i\n",
    "    search_vect=store_mat[i,:]\n",
    "    # use array function to retrieve all outputs. Array returns [i_ml,v_ml after t_clk,binary match]\n",
    "    res_test=tcam.array(store_mat,search_vect,returnPerf=False,t_clk=t_period)\n",
    "    # if there is only a single match and in the correct row, right answer. Otherwise flag error\n",
    "    if np.sum(np.asarray(res_test)[:,2])==1 and np.asarray(res_test)[i,2]==1:\n",
    "        right=right+1\n",
    "    else:\n",
    "        print('Error at row '+str(i))"
   ]
  },
  {
   "cell_type": "markdown",
   "metadata": {},
   "source": [
    "Again, all errors."
   ]
  },
  {
   "cell_type": "markdown",
   "metadata": {},
   "source": [
    "To test ternary function, don't care can be written in the memory, for example:"
   ]
  },
  {
   "cell_type": "code",
   "execution_count": 41,
   "metadata": {},
   "outputs": [
    {
     "data": {
      "text/plain": [
       "<matplotlib.image.AxesImage at 0x1ec83b54970>"
      ]
     },
     "execution_count": 41,
     "metadata": {},
     "output_type": "execute_result"
    },
    {
     "data": {
      "image/png": "[encoded data removed]",
      "text/plain": [
       "<Figure size 320x320 with 1 Axes>"
      ]
     },
     "metadata": {
      "needs_background": "light"
     },
     "output_type": "display_data"
    }
   ],
   "source": [
    "# add a row of don't cares\n",
    "store_mat[5,:]=2*np.ones(16)\n",
    "plt.imshow(store_mat)"
   ]
  },
  {
   "cell_type": "code",
   "execution_count": 44,
   "metadata": {},
   "outputs": [],
   "source": [
    "# search and make sure that row 5 is alway matched\n",
    "right=0\n",
    "for i in range(store_mat.shape[0]):\n",
    "    if i !=5:\n",
    "        search_vect=store_mat[i,:]\n",
    "        res_test=tcam.array(store_mat,search_vect,returnPerf=False)\n",
    "        if np.sum(np.asarray(res_test)[:,2])==2 and np.asarray(res_test)[i,2]==1 and np.asarray(res_test)[5,2]==1:\n",
    "            right=right+1\n",
    "        else:\n",
    "            print('Error at row '+str(i))"
   ]
  },
  {
   "cell_type": "markdown",
   "metadata": {},
   "source": [
    "Sounds correct!"
   ]
  },
  {
   "cell_type": "code",
   "execution_count": null,
   "metadata": {},
   "outputs": [],
   "source": []
  }
 ],
 "metadata": {
  "kernelspec": {
   "display_name": "Python 3",
   "language": "python",
   "name": "python3"
  },
  "language_info": {
   "codemirror_mode": {
    "name": "ipython",
    "version": 3
   },
   "file_extension": ".py",
   "mimetype": "text/x-python",
   "name": "python",
   "nbconvert_exporter": "python",
   "pygments_lexer": "ipython3",
   "version": "3.9.0"
  }
 },
 "nbformat": 4,
 "nbformat_minor": 4
}
